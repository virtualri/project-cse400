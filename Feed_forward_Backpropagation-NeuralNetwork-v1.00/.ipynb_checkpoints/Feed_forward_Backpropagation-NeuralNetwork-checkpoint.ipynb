{
 "cells": [
  {
   "cell_type": "code",
   "execution_count": null,
   "metadata": {
    "scrolled": true
   },
   "outputs": [],
   "source": [
    "# Title: Finding the sponsor from employee list\n",
    "#\n",
    "# CSE 400 - Dissertation: Implementation and Results\n",
    "# Student    : Rashadul Islam\n",
    "# Id         : 0301175301\n",
    "# Department : Department of CSE\n",
    "# Semester   : Spring 2019\n",
    "# Written on : Wed Sep 10 10:00:00 BST 2019\n",
    "#\n",
    "\n",
    "# Library\n",
    "import numpy as np\n",
    "import pandas as pd\n",
    "from numpy import genfromtxt\n",
    "\n",
    "from NeuralNetworkFeedForwardBackpropagation import Neural_Network \n",
    "\n",
    "from matplotlib import pyplot as plt "
   ]
  },
  {
   "cell_type": "code",
   "execution_count": null,
   "metadata": {
    "scrolled": true
   },
   "outputs": [],
   "source": [
    "# sample input append at the end\n",
    "#\n",
    "# data description\n",
    "#                           stay,  expense,    social status,  reservation status, client's ranking score,     emmployee_oee_score), y = score on test\n",
    "train = genfromtxt('labeledData.csv', skip_header=6, delimiter=',')\n",
    "ranking = genfromtxt('ranking.csv', skip_header=1, delimiter=',')\n",
    "inputs = genfromtxt('input.csv', delimiter=',')\n",
    "\n",
    "\n",
    "#y1 = np.array(train[:,6])\n",
    "ranking = np.vstack(ranking)\n",
    "resourceStatus = np.vstack((train,inputs))"
   ]
  },
  {
   "cell_type": "code",
   "execution_count": null,
   "metadata": {
    "scrolled": true
   },
   "outputs": [],
   "source": [
    "# scale units\n",
    "resourceStatus = resourceStatus/np.amax(resourceStatus, axis=0) # scaling input data\n",
    "ranking = ranking/100 # scaling output data (max test score is 100 as ranking each row)\n",
    "\n",
    "# split data\n",
    "X = np.split(resourceStatus, [23])[0] # total row = resourceStatus row -1\n",
    "pred = np.split(resourceStatus, [23])[1] # total row = resourceStatus row -1 "
   ]
  },
  {
   "cell_type": "code",
   "execution_count": null,
   "metadata": {
    "scrolled": false
   },
   "outputs": [],
   "source": [
    "NN = Neural_Network()\n",
    "\n",
    "average_cost =0 \n",
    "cost_func = []\n",
    "y_pred = []\n",
    "\n",
    "for i in range(100000): # trains the NN 1000 times\n",
    "  print(\"# \" + str(i) + \"\\n\")\n",
    "  print(\"Input (scaled): \\n\" + str(X))\n",
    "  print(\"Actual Output: \\n\" + str(ranking))\n",
    "  print(\"Predicted Output: \\n\" + str(NN.forward(X)))\n",
    "  pred1 = (NN.forward(X))\n",
    "  y_pred.append(pred1)           \n",
    "  print(\"=\"*52)\n",
    "  error = np.mean(np.square(ranking - NN.forward(X)))  \n",
    "  print(\"Loss: \\n\" + str(np.mean(np.square(ranking - NN.forward(X))))) # mean sum squared loss\n",
    "  print(\"=\"*52)\n",
    "  NN.train(X, ranking)\n",
    "  cost_func.append(error)\n",
    "    \n",
    "for i in range(100000):  \n",
    "    plt.plot(cost_func)\n",
    "    plt.xlabel(\"epoch\")\n",
    "    plt.ylabel(\"cost_func\")\n",
    "    \n",
    "#NN.saveWeights()\n",
    "\n",
    "# Prediction\n",
    "print(\"Predicted data based on trained weights: \");\n",
    "print(\"Input (scaled): \\n\" + str(pred));\n",
    "NN.predict(pred)\n",
    "\n",
    "\n",
    "print (\"Error or loss in 1000 epoch\")\n",
    "print (\"=\"*52)\n",
    "print (error)\n",
    "print (\"=\"*52)"
   ]
  },
  {
   "cell_type": "code",
   "execution_count": 165,
   "metadata": {},
   "outputs": [
    {
     "name": "stdout",
     "output_type": "stream",
     "text": [
      "(23, 1)\n"
     ]
    },
    {
     "data": {
      "text/plain": [
       "-2.1547411583059173"
      ]
     },
     "execution_count": 165,
     "metadata": {},
     "output_type": "execute_result"
    }
   ],
   "source": [
    "# Accuracy or F1 Score\n",
    "from numpy  import array\n",
    "y_pred = array(y_pred)\n",
    "\n",
    "pred2 = (y_pred[:23,-1])\n",
    "pred = np.vstack(pred2[:,-1])\n",
    "\n",
    "from sklearn.model_selection import train_test_split\n",
    "\n",
    "X_train, X_test, y_train, y_test = train_test_split(train,ranking,test_size=0.99)\n",
    "\n",
    "print (y_test.shape)\n",
    "\n",
    "#from sklearn.metrics import accuracy_score\n",
    "#accuracy_score(y_test,pred)*100\n",
    "\n",
    "from sklearn.metrics import r2_score\n",
    "\n",
    "f1 = r2_score(y_test, pred)*100\n",
    "\n",
    "print (f1)"
   ]
  },
  {
   "cell_type": "code",
   "execution_count": null,
   "metadata": {},
   "outputs": [],
   "source": []
  },
  {
   "cell_type": "code",
   "execution_count": null,
   "metadata": {},
   "outputs": [],
   "source": []
  }
 ],
 "metadata": {
  "kernelspec": {
   "display_name": "Python 3",
   "language": "python",
   "name": "python3"
  },
  "language_info": {
   "codemirror_mode": {
    "name": "ipython",
    "version": 3
   },
   "file_extension": ".py",
   "mimetype": "text/x-python",
   "name": "python",
   "nbconvert_exporter": "python",
   "pygments_lexer": "ipython3",
   "version": "3.7.0"
  }
 },
 "nbformat": 4,
 "nbformat_minor": 2
}
