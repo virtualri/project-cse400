{
 "cells": [
  {
   "cell_type": "code",
   "execution_count": 1,
   "metadata": {},
   "outputs": [],
   "source": [
    "# Finding the sponsor from employee list\n",
    "# Title: To Allocate resources\n",
    "#\n",
    "# CSE 400 - Dissertation: Implementation and Results\n",
    "# Student    : Rashadul Islam\n",
    "# Id         : 0301175301\n",
    "# Department : Department of CSE\n",
    "# Semester   : Spring 2019\n",
    "# Written on : Wed Sep 10 10:00:00 BST 2019\n",
    "#\n",
    "\n",
    "# Library\n",
    "import numpy as np \n",
    "import pandas as pd \n",
    "import matplotlib.pyplot as plt \n",
    "from sklearn import preprocessing \n",
    "from sklearn.metrics import mean_squared_error\n",
    "from sklearn.model_selection import train_test_split"
   ]
  },
  {
   "cell_type": "code",
   "execution_count": 2,
   "metadata": {},
   "outputs": [],
   "source": [
    "# Import Dataset as train and test as input \n",
    "train=pd.read_csv('sales-per-employee.csv')\n",
    "test=pd.read_csv('employee.csv')"
   ]
  },
  {
   "cell_type": "code",
   "execution_count": 3,
   "metadata": {},
   "outputs": [
    {
     "name": "stderr",
     "output_type": "stream",
     "text": [
      "/usr/local/lib64/python3.7/site-packages/pandas/core/frame.py:4117: SettingWithCopyWarning: \n",
      "A value is trying to be set on a copy of a slice from a DataFrame\n",
      "\n",
      "See the caveats in the documentation: http://pandas.pydata.org/pandas-docs/stable/user_guide/indexing.html#returning-a-view-versus-a-copy\n",
      "  errors=errors,\n"
     ]
    }
   ],
   "source": [
    "# Preparing Dataset \n",
    "number = preprocessing.LabelEncoder()\n",
    "\n",
    "# Based on OEE_score finding the most possible sponsor from the employees \n",
    "train['OEE_score'] = np.sqrt(train['OEE_score'])\n",
    "test['OEE_score'] = np.sqrt(test['OEE_score'])\n",
    "\n",
    "test['Profit'] = 0\n",
    "\n",
    "combi = train.append(test)\n",
    "\n",
    "col = ['Room_Status']\n",
    "for i in col:\n",
    " combi[i] = number.fit_transform(combi[i].astype('str'))\n",
    " combi[i] = combi[i].astype('object')\n",
    "\n",
    "train = combi[:train.shape[0]]\n",
    "test = combi[train.shape[0]:]\n",
    "test.drop('Profit',axis=1,inplace=True)\n",
    "\n",
    "# dataset preparation for tpot\n",
    "tpot_train = train.drop(['Employee id'],axis=1)\n",
    "tpot_test = test.drop(['Employee id'],axis=1)\n",
    "tpot_train = train.drop(['Employee name','Room_Status'],axis=1)\n",
    "tpot_test = test.drop(['Employee name','Room_Status'],axis=1)\n",
    "target = tpot_train['Profit']\n",
    "tpot_train.drop('Profit',axis=1,inplace=True)"
   ]
  },
  {
   "cell_type": "code",
   "execution_count": 4,
   "metadata": {},
   "outputs": [],
   "source": [
    "#!pip3 install tpot"
   ]
  },
  {
   "cell_type": "code",
   "execution_count": null,
   "metadata": {},
   "outputs": [],
   "source": [
    "!pip3 install xgboost --user"
   ]
  },
  {
   "cell_type": "code",
   "execution_count": 5,
   "metadata": {},
   "outputs": [
    {
     "ename": "ImportError",
     "evalue": "Error: could not import xgboost.XGBRegressor.\nNo module named 'xgboost'",
     "output_type": "error",
     "traceback": [
      "\u001b[0;31m---------------------------------------------------------------------------\u001b[0m",
      "\u001b[0;31mModuleNotFoundError\u001b[0m                       Traceback (most recent call last)",
      "\u001b[0;32m/usr/local/lib/python3.7/site-packages/tpot/operator_utils.py\u001b[0m in \u001b[0;36msource_decode\u001b[0;34m(sourcecode, verbose)\u001b[0m\n\u001b[1;32m     76\u001b[0m         \u001b[0;32melse\u001b[0m\u001b[0;34m:\u001b[0m\u001b[0;34m\u001b[0m\u001b[0m\n\u001b[0;32m---> 77\u001b[0;31m             \u001b[0mexec\u001b[0m\u001b[0;34m(\u001b[0m\u001b[0;34m'from {} import {}'\u001b[0m\u001b[0;34m.\u001b[0m\u001b[0mformat\u001b[0m\u001b[0;34m(\u001b[0m\u001b[0mimport_str\u001b[0m\u001b[0;34m,\u001b[0m \u001b[0mop_str\u001b[0m\u001b[0;34m)\u001b[0m\u001b[0;34m)\u001b[0m\u001b[0;34m\u001b[0m\u001b[0m\n\u001b[0m\u001b[1;32m     78\u001b[0m         \u001b[0mop_obj\u001b[0m \u001b[0;34m=\u001b[0m \u001b[0meval\u001b[0m\u001b[0;34m(\u001b[0m\u001b[0mop_str\u001b[0m\u001b[0;34m)\u001b[0m\u001b[0;34m\u001b[0m\u001b[0m\n",
      "\u001b[0;32m/usr/local/lib/python3.7/site-packages/tpot/operator_utils.py\u001b[0m in \u001b[0;36m<module>\u001b[0;34m()\u001b[0m\n",
      "\u001b[0;31mModuleNotFoundError\u001b[0m: No module named 'xgboost'",
      "\nDuring handling of the above exception, another exception occurred:\n",
      "\u001b[0;31mImportError\u001b[0m                               Traceback (most recent call last)",
      "\u001b[0;32m<ipython-input-5-34af8f1558d5>\u001b[0m in \u001b[0;36m<module>\u001b[0;34m()\u001b[0m\n\u001b[1;32m     25\u001b[0m \u001b[0;34m\u001b[0m\u001b[0m\n\u001b[1;32m     26\u001b[0m \u001b[0;31m# Learning and predicting\u001b[0m\u001b[0;34m\u001b[0m\u001b[0;34m\u001b[0m\u001b[0m\n\u001b[0;32m---> 27\u001b[0;31m \u001b[0mtpot\u001b[0m\u001b[0;34m.\u001b[0m\u001b[0mfit\u001b[0m\u001b[0;34m(\u001b[0m\u001b[0mX_train\u001b[0m\u001b[0;34m,\u001b[0m \u001b[0my_train\u001b[0m\u001b[0;34m)\u001b[0m\u001b[0;34m\u001b[0m\u001b[0m\n\u001b[0m\u001b[1;32m     28\u001b[0m \u001b[0;34m\u001b[0m\u001b[0m\n\u001b[1;32m     29\u001b[0m \u001b[0;31m# Estimate error or loss\u001b[0m\u001b[0;34m\u001b[0m\u001b[0;34m\u001b[0m\u001b[0m\n",
      "\u001b[0;32m/usr/local/lib/python3.7/site-packages/tpot/base.py\u001b[0m in \u001b[0;36mfit\u001b[0;34m(self, features, target, sample_weight, groups)\u001b[0m\n\u001b[1;32m    627\u001b[0m \u001b[0;34m\u001b[0m\u001b[0m\n\u001b[1;32m    628\u001b[0m         \"\"\"\n\u001b[0;32m--> 629\u001b[0;31m         \u001b[0mself\u001b[0m\u001b[0;34m.\u001b[0m\u001b[0m_fit_init\u001b[0m\u001b[0;34m(\u001b[0m\u001b[0;34m)\u001b[0m\u001b[0;34m\u001b[0m\u001b[0m\n\u001b[0m\u001b[1;32m    630\u001b[0m         \u001b[0mfeatures\u001b[0m\u001b[0;34m,\u001b[0m \u001b[0mtarget\u001b[0m \u001b[0;34m=\u001b[0m \u001b[0mself\u001b[0m\u001b[0;34m.\u001b[0m\u001b[0m_check_dataset\u001b[0m\u001b[0;34m(\u001b[0m\u001b[0mfeatures\u001b[0m\u001b[0;34m,\u001b[0m \u001b[0mtarget\u001b[0m\u001b[0;34m,\u001b[0m \u001b[0msample_weight\u001b[0m\u001b[0;34m)\u001b[0m\u001b[0;34m\u001b[0m\u001b[0m\n\u001b[1;32m    631\u001b[0m \u001b[0;34m\u001b[0m\u001b[0m\n",
      "\u001b[0;32m/usr/local/lib/python3.7/site-packages/tpot/base.py\u001b[0m in \u001b[0;36m_fit_init\u001b[0;34m(self)\u001b[0m\n\u001b[1;32m    529\u001b[0m                 \u001b[0mBaseClass\u001b[0m\u001b[0;34m=\u001b[0m\u001b[0mOperator\u001b[0m\u001b[0;34m,\u001b[0m\u001b[0;34m\u001b[0m\u001b[0m\n\u001b[1;32m    530\u001b[0m                 \u001b[0mArgBaseClass\u001b[0m\u001b[0;34m=\u001b[0m\u001b[0mARGType\u001b[0m\u001b[0;34m,\u001b[0m\u001b[0;34m\u001b[0m\u001b[0m\n\u001b[0;32m--> 531\u001b[0;31m                 \u001b[0mverbose\u001b[0m\u001b[0;34m=\u001b[0m\u001b[0mself\u001b[0m\u001b[0;34m.\u001b[0m\u001b[0mverbosity\u001b[0m\u001b[0;34m\u001b[0m\u001b[0m\n\u001b[0m\u001b[1;32m    532\u001b[0m             )\n\u001b[1;32m    533\u001b[0m             \u001b[0;32mif\u001b[0m \u001b[0mop_class\u001b[0m\u001b[0;34m:\u001b[0m\u001b[0;34m\u001b[0m\u001b[0m\n",
      "\u001b[0;32m/usr/local/lib/python3.7/site-packages/tpot/operator_utils.py\u001b[0m in \u001b[0;36mTPOTOperatorClassFactory\u001b[0;34m(opsourse, opdict, BaseClass, ArgBaseClass, verbose)\u001b[0m\n\u001b[1;32m    169\u001b[0m     \u001b[0mdep_op_list\u001b[0m \u001b[0;34m=\u001b[0m \u001b[0;34m{\u001b[0m\u001b[0;34m}\u001b[0m \u001b[0;31m# list of nested estimator/callable function\u001b[0m\u001b[0;34m\u001b[0m\u001b[0m\n\u001b[1;32m    170\u001b[0m     \u001b[0mdep_op_type\u001b[0m \u001b[0;34m=\u001b[0m \u001b[0;34m{\u001b[0m\u001b[0;34m}\u001b[0m \u001b[0;31m# type of nested estimator/callable function\u001b[0m\u001b[0;34m\u001b[0m\u001b[0m\n\u001b[0;32m--> 171\u001b[0;31m     \u001b[0mimport_str\u001b[0m\u001b[0;34m,\u001b[0m \u001b[0mop_str\u001b[0m\u001b[0;34m,\u001b[0m \u001b[0mop_obj\u001b[0m \u001b[0;34m=\u001b[0m \u001b[0msource_decode\u001b[0m\u001b[0;34m(\u001b[0m\u001b[0mopsourse\u001b[0m\u001b[0;34m,\u001b[0m \u001b[0mverbose\u001b[0m\u001b[0;34m=\u001b[0m\u001b[0mverbose\u001b[0m\u001b[0;34m)\u001b[0m\u001b[0;34m\u001b[0m\u001b[0m\n\u001b[0m\u001b[1;32m    172\u001b[0m \u001b[0;34m\u001b[0m\u001b[0m\n\u001b[1;32m    173\u001b[0m     \u001b[0;32mif\u001b[0m \u001b[0;32mnot\u001b[0m \u001b[0mop_obj\u001b[0m\u001b[0;34m:\u001b[0m\u001b[0;34m\u001b[0m\u001b[0m\n",
      "\u001b[0;32m/usr/local/lib/python3.7/site-packages/tpot/operator_utils.py\u001b[0m in \u001b[0;36msource_decode\u001b[0;34m(sourcecode, verbose)\u001b[0m\n\u001b[1;32m     79\u001b[0m     \u001b[0;32mexcept\u001b[0m \u001b[0mException\u001b[0m \u001b[0;32mas\u001b[0m \u001b[0me\u001b[0m\u001b[0;34m:\u001b[0m\u001b[0;34m\u001b[0m\u001b[0m\n\u001b[1;32m     80\u001b[0m         \u001b[0;32mif\u001b[0m \u001b[0mverbose\u001b[0m \u001b[0;34m>\u001b[0m \u001b[0;36m2\u001b[0m\u001b[0;34m:\u001b[0m\u001b[0;34m\u001b[0m\u001b[0m\n\u001b[0;32m---> 81\u001b[0;31m             \u001b[0;32mraise\u001b[0m \u001b[0mImportError\u001b[0m\u001b[0;34m(\u001b[0m\u001b[0;34m'Error: could not import {}.\\n{}'\u001b[0m\u001b[0;34m.\u001b[0m\u001b[0mformat\u001b[0m\u001b[0;34m(\u001b[0m\u001b[0msourcecode\u001b[0m\u001b[0;34m,\u001b[0m \u001b[0me\u001b[0m\u001b[0;34m)\u001b[0m\u001b[0;34m)\u001b[0m\u001b[0;34m\u001b[0m\u001b[0m\n\u001b[0m\u001b[1;32m     82\u001b[0m         \u001b[0;32melse\u001b[0m\u001b[0;34m:\u001b[0m\u001b[0;34m\u001b[0m\u001b[0m\n\u001b[1;32m     83\u001b[0m             \u001b[0mprint\u001b[0m\u001b[0;34m(\u001b[0m\u001b[0;34m'Warning: {} is not available and will not be used by TPOT.'\u001b[0m\u001b[0;34m.\u001b[0m\u001b[0mformat\u001b[0m\u001b[0;34m(\u001b[0m\u001b[0msourcecode\u001b[0m\u001b[0;34m)\u001b[0m\u001b[0;34m)\u001b[0m\u001b[0;34m\u001b[0m\u001b[0m\n",
      "\u001b[0;31mImportError\u001b[0m: Error: could not import xgboost.XGBRegressor.\nNo module named 'xgboost'"
     ]
    }
   ],
   "source": [
    "# To automate the machine learning\n",
    "# to optimizes machine learning pipelines using genetic programming\n",
    "# through optimization\n",
    "\n",
    "from tpot import TPOTRegressor\n",
    "\n",
    "X_train, X_test, y_train, y_test = train_test_split(tpot_train, target,\n",
    " train_size=0.8, test_size=0.2)\n",
    "\n",
    "# Genetic Algorithm \n",
    "# to find the model\n",
    "# please insert as more generations and population size to get the \n",
    "# appropriate Cross Validation (C V) Score for model validation\n",
    "\n",
    "# Pipeline optimizer\n",
    "\n",
    "# to get the sample estimate model faster \n",
    "#tpot = TPOTRegressor(generations=10, population_size=100, verbosity=3)\n",
    "\n",
    "# most suitable optimizer\n",
    "#tpot = TPOTRegressor(generations=2, population_size=10, verbosity=2,cv=5)\n",
    "tpot = TPOTRegressor(verbosity=3, \n",
    " generations=5, \n",
    " population_size=10)\n",
    "\n",
    "# Learning and predicting\n",
    "tpot.fit(X_train, y_train)\n",
    "\n",
    "# Estimate error or loss\n",
    "print (\"Cross validation score\")\n",
    "print(tpot.score(X_test, y_test))"
   ]
  },
  {
   "cell_type": "code",
   "execution_count": null,
   "metadata": {},
   "outputs": [],
   "source": [
    "#!pip3 install xgboost --user"
   ]
  },
  {
   "cell_type": "code",
   "execution_count": null,
   "metadata": {},
   "outputs": [],
   "source": [
    "# Prediction\n",
    "tpot_pred = tpot.predict(tpot_test)\n",
    "\n",
    "# Results\n",
    "final = pd.DataFrame(data=tpot_pred)\n",
    "final = final.rename(columns = {'0':'Profit'})\n",
    "final['Employee id'] = test['Employee id']\n",
    "final['Employee name'] = test['Employee name']\n",
    "final['OEE_score'] = test['OEE_score']\n",
    "final['Client_Stays'] = test['Client_Stays']\n",
    "final['Room_Status'] = test['Room_Status']\n",
    "final.columns = ['Profit','Employee id','Employee name','OEE_score','Client_Stays','Room_Status']\n",
    "final.sort_values(by=['OEE_score'], ascending=False)"
   ]
  },
  {
   "cell_type": "code",
   "execution_count": null,
   "metadata": {},
   "outputs": [],
   "source": [
    "# Sponsor details based on possible sales over the client as profit\n",
    "final['Sponsor'] = final.loc[final[['Profit','OEE_score']].idxmax()[1]]\n",
    "#print (final)"
   ]
  },
  {
   "cell_type": "code",
   "execution_count": null,
   "metadata": {},
   "outputs": [],
   "source": [
    "# Sponsor may be\n",
    "final.loc[final[['Profit','OEE_score']].idxmax()[1]]"
   ]
  }
 ],
 "metadata": {
  "kernelspec": {
   "display_name": "Python 3",
   "language": "python",
   "name": "python3"
  },
  "language_info": {
   "codemirror_mode": {
    "name": "ipython",
    "version": 3
   },
   "file_extension": ".py",
   "mimetype": "text/x-python",
   "name": "python",
   "nbconvert_exporter": "python",
   "pygments_lexer": "ipython3",
   "version": "3.7.0"
  }
 },
 "nbformat": 4,
 "nbformat_minor": 2
}
