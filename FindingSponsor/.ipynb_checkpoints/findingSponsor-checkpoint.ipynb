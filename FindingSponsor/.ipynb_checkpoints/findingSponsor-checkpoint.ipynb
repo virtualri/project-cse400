{
 "cells": [
  {
   "cell_type": "code",
   "execution_count": 1,
   "metadata": {},
   "outputs": [
    {
     "name": "stderr",
     "output_type": "stream",
     "text": [
      "/usr/lib64/python3.7/site-packages/sklearn/utils/__init__.py:4: DeprecationWarning: Using or importing the ABCs from 'collections' instead of from 'collections.abc' is deprecated, and in 3.8 it will stop working\n",
      "  from collections import Sequence\n"
     ]
    }
   ],
   "source": [
    "# Finding the sponsor from employee list\n",
    "# Title: To Allocate resources\n",
    "#\n",
    "# CSE 400 - Dissertation: Implementation and Results\n",
    "# Student    : Rashadul Islam\n",
    "# Id         : 0301175301\n",
    "# Department : Department of CSE\n",
    "# Semester   : Spring 2019\n",
    "# Written on : Wed Sep 10 10:00:00 BST 2019\n",
    "#\n",
    "\n",
    "# Library\n",
    "import numpy as np \n",
    "import pandas as pd \n",
    "import matplotlib.pyplot as plt \n",
    "from sklearn import preprocessing \n",
    "from sklearn.metrics import mean_squared_error\n",
    "from sklearn.model_selection import train_test_split"
   ]
  },
  {
   "cell_type": "code",
   "execution_count": 2,
   "metadata": {},
   "outputs": [],
   "source": [
    "# Import Dataset as train and test as input \n",
    "train=pd.read_csv('sales-per-employee.csv')\n",
    "test=pd.read_csv('employee.csv')"
   ]
  },
  {
   "cell_type": "code",
   "execution_count": 3,
   "metadata": {},
   "outputs": [
    {
     "name": "stderr",
     "output_type": "stream",
     "text": [
      "/usr/lib64/python3.7/site-packages/pandas/core/frame.py:3697: SettingWithCopyWarning: \n",
      "A value is trying to be set on a copy of a slice from a DataFrame\n",
      "\n",
      "See the caveats in the documentation: http://pandas.pydata.org/pandas-docs/stable/indexing.html#indexing-view-versus-copy\n",
      "  errors=errors)\n"
     ]
    }
   ],
   "source": [
    "# Preparing Dataset \n",
    "number = preprocessing.LabelEncoder()\n",
    "\n",
    "# Based on OEE_score finding the most possible sponsor from the employees \n",
    "train['OEE_score'] = np.sqrt(train['OEE_score'])\n",
    "test['OEE_score'] = np.sqrt(test['OEE_score'])\n",
    "\n",
    "test['Profit'] = 0\n",
    "\n",
    "combi = train.append(test)\n",
    "\n",
    "col = ['Room_Status']\n",
    "for i in col:\n",
    " combi[i] = number.fit_transform(combi[i].astype('str'))\n",
    " combi[i] = combi[i].astype('object')\n",
    "\n",
    "train = combi[:train.shape[0]]\n",
    "test = combi[train.shape[0]:]\n",
    "test.drop('Profit',axis=1,inplace=True)\n",
    "\n",
    "# dataset preparation for tpot\n",
    "tpot_train = train.drop(['Employee id'],axis=1)\n",
    "tpot_test = test.drop(['Employee id'],axis=1)\n",
    "tpot_train = train.drop(['Employee name','Room_Status'],axis=1)\n",
    "tpot_test = test.drop(['Employee name','Room_Status'],axis=1)\n",
    "target = tpot_train['Profit']\n",
    "tpot_train.drop('Profit',axis=1,inplace=True)"
   ]
  },
  {
   "cell_type": "code",
   "execution_count": 5,
   "metadata": {},
   "outputs": [
    {
     "name": "stdout",
     "output_type": "stream",
     "text": [
      "\u001b[33mWARNING: Running pip install with root privileges is generally not a good idea. Try `pip3 install --user` instead.\u001b[0m\n",
      "Collecting tpot\n",
      "  Using cached https://files.pythonhosted.org/packages/a5/29/f38a5751276cd901bca8f04ca9a98569a9d4eacd3236bc19a0bf0c834f74/TPOT-0.11.0.tar.gz\n",
      "Collecting numpy>=1.16.3 (from tpot)\n",
      "\u001b[?25l  Downloading https://files.pythonhosted.org/packages/9b/af/4fc72f9d38e43b092e91e5b8cb9956d25b2e3ff8c75aed95df5569e4734e/numpy-1.17.4-cp37-cp37m-manylinux1_x86_64.whl (20.0MB)\n",
      "\u001b[K    100% |████████████████████████████████| 20.0MB 973kB/s eta 0:00:01   20% |██████▋                         | 4.1MB 1.1MB/s eta 0:00:15    38% |████████████▍                   | 7.8MB 826kB/s eta 0:00:15    46% |███████████████                 | 9.4MB 1.0MB/s eta 0:00:11\n",
      "\u001b[?25hCollecting scipy>=1.3.1 (from tpot)\n",
      "\u001b[?25l  Downloading https://files.pythonhosted.org/packages/f2/18/f788042dc7a73d0176e073909c00a6765c953986cae6d8cc13782a4bcd05/scipy-1.3.3-cp37-cp37m-manylinux1_x86_64.whl (25.2MB)\n",
      "\u001b[K    100% |████████████████████████████████| 25.2MB 420kB/s ta 0:00:011 6% |██                              | 1.6MB 891kB/s eta 0:00:27    17% |█████▊                          | 4.5MB 807kB/s eta 0:00:26    71% |███████████████████████         | 18.1MB 894kB/s eta 0:00:08    92% |█████████████████████████████▋  | 23.3MB 562kB/s eta 0:00:04\n",
      "\u001b[?25hCollecting scikit-learn>=0.21.0 (from tpot)\n",
      "\u001b[?25l  Downloading https://files.pythonhosted.org/packages/9f/c5/e5267eb84994e9a92a2c6a6ee768514f255d036f3c8378acfa694e9f2c99/scikit_learn-0.21.3-cp37-cp37m-manylinux1_x86_64.whl (6.7MB)\n",
      "\u001b[K    100% |████████████████████████████████| 6.7MB 738kB/s ta 0:00:01    20% |██████▋                         | 1.4MB 487kB/s eta 0:00:11    98% |███████████████████████████████▌| 6.6MB 776kB/s eta 0:00:01\n",
      "\u001b[?25hCollecting deap>=1.2 (from tpot)\n",
      "\u001b[?25l  Downloading https://files.pythonhosted.org/packages/7f/0b/3c20ec91c33c7ef7fb9a43814ccde833e2454b30a9e676e8670bd23d9406/deap-1.3.0-cp37-cp37m-manylinux1_x86_64.whl (152kB)\n",
      "\u001b[K    100% |████████████████████████████████| 153kB 658kB/s ta 0:00:01\n",
      "\u001b[?25hCollecting update_checker>=0.16 (from tpot)\n",
      "  Downloading https://files.pythonhosted.org/packages/17/c9/ab11855af164d03be0ff4fddd4c46a5bd44799a9ecc1770e01a669c21168/update_checker-0.16-py2.py3-none-any.whl\n",
      "Collecting tqdm>=4.36.1 (from tpot)\n",
      "\u001b[?25l  Downloading https://files.pythonhosted.org/packages/a5/13/cd55c23e3e158ed5b87cae415ee3844fc54cb43803fa3a0a064d23ecb883/tqdm-4.40.0-py2.py3-none-any.whl (54kB)\n",
      "\u001b[K    100% |████████████████████████████████| 61kB 1.2MB/s ta 0:00:01\n",
      "\u001b[?25hCollecting stopit>=1.1.1 (from tpot)\n",
      "  Downloading https://files.pythonhosted.org/packages/35/58/e8bb0b0fb05baf07bbac1450c447d753da65f9701f551dca79823ce15d50/stopit-1.1.2.tar.gz\n",
      "Collecting pandas>=0.24.2 (from tpot)\n",
      "\u001b[?25l  Downloading https://files.pythonhosted.org/packages/63/e0/a1b39cdcb2c391f087a1538bc8a6d62a82d0439693192aef541d7b123769/pandas-0.25.3-cp37-cp37m-manylinux1_x86_64.whl (10.4MB)\n",
      "\u001b[K    100% |████████████████████████████████| 10.4MB 682kB/s ta 0:00:01  5% |██                              | 624kB 671kB/s eta 0:00:15    31% |██████████▏                     | 3.3MB 362kB/s eta 0:00:20    48% |███████████████▋                | 5.1MB 1.1MB/s eta 0:00:05\n",
      "\u001b[?25hCollecting joblib>=0.13.2 (from tpot)\n",
      "\u001b[?25l  Downloading https://files.pythonhosted.org/packages/8f/42/155696f85f344c066e17af287359c9786b436b1bf86029bb3411283274f3/joblib-0.14.0-py2.py3-none-any.whl (294kB)\n",
      "\u001b[K    100% |████████████████████████████████| 296kB 594kB/s ta 0:00:01\n",
      "\u001b[?25hRequirement already satisfied: requests>=2.3.0 in /usr/lib/python3.7/site-packages (from update_checker>=0.16->tpot) (2.19.1)\n",
      "Requirement already satisfied: python-dateutil>=2.6.1 in /usr/lib/python3.7/site-packages (from pandas>=0.24.2->tpot) (2.7.5)\n",
      "Requirement already satisfied: pytz>=2017.2 in /usr/lib/python3.7/site-packages (from pandas>=0.24.2->tpot) (2018.5)\n",
      "Requirement already satisfied: chardet<3.1.0,>=3.0.2 in /usr/lib/python3.7/site-packages (from requests>=2.3.0->update_checker>=0.16->tpot) (3.0.4)\n",
      "Requirement already satisfied: idna<2.8,>=2.5 in /usr/lib/python3.7/site-packages (from requests>=2.3.0->update_checker>=0.16->tpot) (2.7)\n",
      "Requirement already satisfied: urllib3<1.24,>=1.21.1 in /usr/lib/python3.7/site-packages (from requests>=2.3.0->update_checker>=0.16->tpot) (1.23)\n",
      "Requirement already satisfied: six>=1.5 in /usr/local/lib/python3.7/site-packages (from python-dateutil>=2.6.1->pandas>=0.24.2->tpot) (1.12.0)\n",
      "Installing collected packages: numpy, scipy, joblib, scikit-learn, deap, update-checker, tqdm, stopit, pandas, tpot\n",
      "  Running setup.py install for stopit ... \u001b[?25ldone\n",
      "\u001b[?25h  Running setup.py install for tpot ... \u001b[?25ldone\n",
      "\u001b[?25hSuccessfully installed deap-1.3.0 joblib-0.14.0 numpy-1.17.4 pandas-0.25.3 scikit-learn-0.21.3 scipy-1.3.3 stopit-1.1.2 tpot-0.11.0 tqdm-4.40.0 update-checker-0.16\n"
     ]
    }
   ],
   "source": [
    "#!pip3 install tpot"
   ]
  },
  {
   "cell_type": "code",
   "execution_count": 10,
   "metadata": {},
   "outputs": [
    {
     "name": "stdout",
     "output_type": "stream",
     "text": [
      "\u001b[33mWARNING: Running pip install with root privileges is generally not a good idea. Try `pip3 install --user` instead.\u001b[0m\n",
      "Collecting sklearn.impute\n",
      "\u001b[31m  Could not find a version that satisfies the requirement sklearn.impute (from versions: )\u001b[0m\n",
      "\u001b[31mNo matching distribution found for sklearn.impute\u001b[0m\n"
     ]
    }
   ],
   "source": []
  },
  {
   "cell_type": "code",
   "execution_count": 8,
   "metadata": {},
   "outputs": [
    {
     "ename": "ModuleNotFoundError",
     "evalue": "No module named 'sklearn.impute'",
     "output_type": "error",
     "traceback": [
      "\u001b[0;31m---------------------------------------------------------------------------\u001b[0m",
      "\u001b[0;31mModuleNotFoundError\u001b[0m                       Traceback (most recent call last)",
      "\u001b[0;32m<ipython-input-8-34af8f1558d5>\u001b[0m in \u001b[0;36m<module>\u001b[0;34m()\u001b[0m\n\u001b[1;32m      3\u001b[0m \u001b[0;31m# through optimization\u001b[0m\u001b[0;34m\u001b[0m\u001b[0;34m\u001b[0m\u001b[0m\n\u001b[1;32m      4\u001b[0m \u001b[0;34m\u001b[0m\u001b[0m\n\u001b[0;32m----> 5\u001b[0;31m \u001b[0;32mfrom\u001b[0m \u001b[0mtpot\u001b[0m \u001b[0;32mimport\u001b[0m \u001b[0mTPOTRegressor\u001b[0m\u001b[0;34m\u001b[0m\u001b[0m\n\u001b[0m\u001b[1;32m      6\u001b[0m \u001b[0;34m\u001b[0m\u001b[0m\n\u001b[1;32m      7\u001b[0m X_train, X_test, y_train, y_test = train_test_split(tpot_train, target,\n",
      "\u001b[0;32m/usr/local/lib/python3.7/site-packages/tpot/__init__.py\u001b[0m in \u001b[0;36m<module>\u001b[0;34m()\u001b[0m\n\u001b[1;32m     25\u001b[0m \u001b[0;34m\u001b[0m\u001b[0m\n\u001b[1;32m     26\u001b[0m \u001b[0;32mfrom\u001b[0m \u001b[0;34m.\u001b[0m\u001b[0m_version\u001b[0m \u001b[0;32mimport\u001b[0m \u001b[0m__version__\u001b[0m\u001b[0;34m\u001b[0m\u001b[0m\n\u001b[0;32m---> 27\u001b[0;31m \u001b[0;32mfrom\u001b[0m \u001b[0;34m.\u001b[0m\u001b[0mtpot\u001b[0m \u001b[0;32mimport\u001b[0m \u001b[0mTPOTClassifier\u001b[0m\u001b[0;34m,\u001b[0m \u001b[0mTPOTRegressor\u001b[0m\u001b[0;34m\u001b[0m\u001b[0m\n\u001b[0m\u001b[1;32m     28\u001b[0m \u001b[0;32mfrom\u001b[0m \u001b[0;34m.\u001b[0m\u001b[0mdriver\u001b[0m \u001b[0;32mimport\u001b[0m \u001b[0mmain\u001b[0m\u001b[0;34m\u001b[0m\u001b[0m\n",
      "\u001b[0;32m/usr/local/lib/python3.7/site-packages/tpot/tpot.py\u001b[0m in \u001b[0;36m<module>\u001b[0;34m()\u001b[0m\n\u001b[1;32m     24\u001b[0m \"\"\"\n\u001b[1;32m     25\u001b[0m \u001b[0;34m\u001b[0m\u001b[0m\n\u001b[0;32m---> 26\u001b[0;31m \u001b[0;32mfrom\u001b[0m \u001b[0;34m.\u001b[0m\u001b[0mbase\u001b[0m \u001b[0;32mimport\u001b[0m \u001b[0mTPOTBase\u001b[0m\u001b[0;34m\u001b[0m\u001b[0m\n\u001b[0m\u001b[1;32m     27\u001b[0m \u001b[0;32mfrom\u001b[0m \u001b[0;34m.\u001b[0m\u001b[0mconfig\u001b[0m\u001b[0;34m.\u001b[0m\u001b[0mclassifier\u001b[0m \u001b[0;32mimport\u001b[0m \u001b[0mclassifier_config_dict\u001b[0m\u001b[0;34m\u001b[0m\u001b[0m\n\u001b[1;32m     28\u001b[0m \u001b[0;32mfrom\u001b[0m \u001b[0;34m.\u001b[0m\u001b[0mconfig\u001b[0m\u001b[0;34m.\u001b[0m\u001b[0mregressor\u001b[0m \u001b[0;32mimport\u001b[0m \u001b[0mregressor_config_dict\u001b[0m\u001b[0;34m\u001b[0m\u001b[0m\n",
      "\u001b[0;32m/usr/local/lib/python3.7/site-packages/tpot/base.py\u001b[0m in \u001b[0;36m<module>\u001b[0;34m()\u001b[0m\n\u001b[1;32m     51\u001b[0m \u001b[0;32mfrom\u001b[0m \u001b[0msklearn\u001b[0m\u001b[0;34m.\u001b[0m\u001b[0mpipeline\u001b[0m \u001b[0;32mimport\u001b[0m \u001b[0mmake_pipeline\u001b[0m\u001b[0;34m,\u001b[0m \u001b[0mmake_union\u001b[0m\u001b[0;34m\u001b[0m\u001b[0m\n\u001b[1;32m     52\u001b[0m \u001b[0;32mfrom\u001b[0m \u001b[0msklearn\u001b[0m\u001b[0;34m.\u001b[0m\u001b[0mpreprocessing\u001b[0m \u001b[0;32mimport\u001b[0m \u001b[0mFunctionTransformer\u001b[0m\u001b[0;34m\u001b[0m\u001b[0m\n\u001b[0;32m---> 53\u001b[0;31m \u001b[0;32mfrom\u001b[0m \u001b[0msklearn\u001b[0m\u001b[0;34m.\u001b[0m\u001b[0mimpute\u001b[0m \u001b[0;32mimport\u001b[0m \u001b[0mSimpleImputer\u001b[0m\u001b[0;34m\u001b[0m\u001b[0m\n\u001b[0m\u001b[1;32m     54\u001b[0m \u001b[0;32mfrom\u001b[0m \u001b[0msklearn\u001b[0m\u001b[0;34m.\u001b[0m\u001b[0mmodel_selection\u001b[0m \u001b[0;32mimport\u001b[0m \u001b[0mtrain_test_split\u001b[0m\u001b[0;34m\u001b[0m\u001b[0m\n\u001b[1;32m     55\u001b[0m \u001b[0;32mfrom\u001b[0m \u001b[0msklearn\u001b[0m\u001b[0;34m.\u001b[0m\u001b[0mmetrics\u001b[0m\u001b[0;34m.\u001b[0m\u001b[0mscorer\u001b[0m \u001b[0;32mimport\u001b[0m \u001b[0m_BaseScorer\u001b[0m\u001b[0;34m\u001b[0m\u001b[0m\n",
      "\u001b[0;31mModuleNotFoundError\u001b[0m: No module named 'sklearn.impute'"
     ]
    }
   ],
   "source": [
    "# To automate the machine learning\n",
    "# to optimizes machine learning pipelines using genetic programming\n",
    "# through optimization\n",
    "\n",
    "from tpot import TPOTRegressor\n",
    "\n",
    "X_train, X_test, y_train, y_test = train_test_split(tpot_train, target,\n",
    " train_size=0.8, test_size=0.2)\n",
    "\n",
    "# Genetic Algorithm \n",
    "# to find the model\n",
    "# please insert as more generations and population size to get the \n",
    "# appropriate Cross Validation (C V) Score for model validation\n",
    "\n",
    "# Pipeline optimizer\n",
    "\n",
    "# to get the sample estimate model faster \n",
    "#tpot = TPOTRegressor(generations=10, population_size=100, verbosity=3)\n",
    "\n",
    "# most suitable optimizer\n",
    "#tpot = TPOTRegressor(generations=2, population_size=10, verbosity=2,cv=5)\n",
    "tpot = TPOTRegressor(verbosity=3, \n",
    " generations=5, \n",
    " population_size=10)\n",
    "\n",
    "# Learning and predicting\n",
    "tpot.fit(X_train, y_train)\n",
    "\n",
    "# Estimate error or loss\n",
    "print (\"Cross validation score\")\n",
    "print(tpot.score(X_test, y_test))"
   ]
  },
  {
   "cell_type": "code",
   "execution_count": null,
   "metadata": {},
   "outputs": [],
   "source": [
    "#!pip3 install xgboost --user"
   ]
  },
  {
   "cell_type": "code",
   "execution_count": null,
   "metadata": {},
   "outputs": [],
   "source": [
    "# Prediction\n",
    "tpot_pred = tpot.predict(tpot_test)\n",
    "\n",
    "# Results\n",
    "final = pd.DataFrame(data=tpot_pred)\n",
    "final = final.rename(columns = {'0':'Profit'})\n",
    "final['Employee id'] = test['Employee id']\n",
    "final['Employee name'] = test['Employee name']\n",
    "final['OEE_score'] = test['OEE_score']\n",
    "final['Client_Stays'] = test['Client_Stays']\n",
    "final['Room_Status'] = test['Room_Status']\n",
    "final.columns = ['Profit','Employee id','Employee name','OEE_score','Client_Stays','Room_Status']\n",
    "final.sort_values(by=['OEE_score'], ascending=False)"
   ]
  },
  {
   "cell_type": "code",
   "execution_count": null,
   "metadata": {},
   "outputs": [],
   "source": [
    "# Sponsor details based on possible sales over the client as profit\n",
    "final['Sponsor'] = final.loc[final[['Profit','OEE_score']].idxmax()[1]]\n",
    "#print (final)"
   ]
  },
  {
   "cell_type": "code",
   "execution_count": null,
   "metadata": {},
   "outputs": [],
   "source": [
    "# Sponsor may be\n",
    "final.loc[final[['Profit','OEE_score']].idxmax()[1]]"
   ]
  }
 ],
 "metadata": {
  "kernelspec": {
   "display_name": "Python 3",
   "language": "python",
   "name": "python3"
  },
  "language_info": {
   "codemirror_mode": {
    "name": "ipython",
    "version": 3
   },
   "file_extension": ".py",
   "mimetype": "text/x-python",
   "name": "python",
   "nbconvert_exporter": "python",
   "pygments_lexer": "ipython3",
   "version": "3.7.0"
  }
 },
 "nbformat": 4,
 "nbformat_minor": 2
}
